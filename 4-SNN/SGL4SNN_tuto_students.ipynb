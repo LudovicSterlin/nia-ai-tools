{
  "nbformat": 4,
  "nbformat_minor": 0,
  "metadata": {
    "kernelspec": {
      "display_name": "Python 3",
      "language": "python",
      "name": "python3"
    },
    "language_info": {
      "codemirror_mode": {
        "name": "ipython",
        "version": 3
      },
      "file_extension": ".py",
      "mimetype": "text/x-python",
      "name": "python",
      "nbconvert_exporter": "python",
      "pygments_lexer": "ipython3",
      "version": "3.6.9"
    },
    "colab": {
      "name": "SGL4SNN_tuto_students.ipynb",
      "provenance": [],
      "collapsed_sections": []
    },
    "accelerator": "GPU"
  },
  "cells": [
    {
      "cell_type": "markdown",
      "metadata": {
        "id": "fQHHJwklXiYL"
      },
      "source": [
        "# Tutorial : Training a spiking neural network with surrogate gradients\n",
        "\n",
        "Credit: this tutorial is modified from https://github.com/fzenke/spytorch/blob/master/notebooks/SpyTorchTutorial1.ipynb by\n",
        "Friedemann Zenke (https://fzenke.net)"
      ]
    },
    {
      "cell_type": "markdown",
      "metadata": {
        "id": "c1zaWLUnXiYW"
      },
      "source": [
        "## Example network"
      ]
    },
    {
      "cell_type": "markdown",
      "metadata": {
        "id": "N9rfsgSYXiYX"
      },
      "source": [
        "Let's start with a simple multilayer feedforward network model with a single hidden layer, as shown below.\n",
        "\n",
        "<img src=\"https://github.com/fzenke/spytorch/blob/master/notebooks/figures/mlp_sketch/mlp_sketch.png?raw=1\">\n",
        "\n",
        "For the sake of argument, we set the numbers for the input, hidden and output neurons as follows:"
      ]
    },
    {
      "cell_type": "code",
      "metadata": {
        "id": "_VeMJADbXiYY"
      },
      "source": [
        "nb_inputs  = 100\n",
        "nb_hidden  = 6\n",
        "nb_outputs = 2"
      ],
      "execution_count": null,
      "outputs": []
    },
    {
      "cell_type": "markdown",
      "metadata": {
        "id": "fyrl94_oXiYZ"
      },
      "source": [
        "As we have seen above, we are technically simulating an RNN. Thus we have to simulate our neurons for a certain number of timesteps. We will use 1ms timesteps, and we want to simulate our network for say 100 timesteps. "
      ]
    },
    {
      "cell_type": "code",
      "metadata": {
        "id": "DybN5D4nXiYa"
      },
      "source": [
        "time_step = 1e-3\n",
        "nb_steps  = 100"
      ],
      "execution_count": null,
      "outputs": []
    },
    {
      "cell_type": "markdown",
      "metadata": {
        "id": "IWwwqL08XiYa"
      },
      "source": [
        "To take advantage of parallelism, we will set up our code to work on batches of data like this is usually done for neural networks that are trained in a supervised manner.\n",
        "To that end, we specify a batch size here."
      ]
    },
    {
      "cell_type": "code",
      "metadata": {
        "id": "SGfugtNyXiYb"
      },
      "source": [
        "batch_size = 128"
      ],
      "execution_count": null,
      "outputs": []
    },
    {
      "cell_type": "markdown",
      "metadata": {
        "id": "cvyGqSClXiYb"
      },
      "source": [
        "With these basic design choices made, we can now start building the actual network. Here we will be using PyTorch, but you will be able to reproduce these results in most common machine learning libraries.\n",
        "\n",
        "We start by importing the libraries we need."
      ]
    },
    {
      "cell_type": "code",
      "metadata": {
        "id": "WL1qaIrSXiYb"
      },
      "source": [
        "import os\n",
        "\n",
        "import numpy as np\n",
        "import matplotlib.pyplot as plt\n",
        "from matplotlib.gridspec import GridSpec\n",
        "import seaborn as sns\n",
        "\n",
        "import torch\n",
        "import torch.nn as nn"
      ],
      "execution_count": null,
      "outputs": []
    },
    {
      "cell_type": "code",
      "metadata": {
        "id": "oWZZ1TlXXiYc"
      },
      "source": [
        "dtype = torch.float\n",
        "# device = torch.device(\"cpu\")\n",
        "\n",
        "# Uncomment the line below to run on GPU\n",
        "device = torch.device(\"cuda:0\") "
      ],
      "execution_count": null,
      "outputs": []
    },
    {
      "cell_type": "markdown",
      "metadata": {
        "id": "mcb3HYwVXiYc"
      },
      "source": [
        "### A simple synthetic dataset \n",
        "\n",
        "We start by generating some random spiking data set, which we will use as input to our network. In the beginning, we will work with a single batch of data. It will be straight forward to expand later what we have learned to larger datasets.\n",
        "\n",
        "Suppose we want our network to classify a set of different sparse input spike trains into two categories. \n",
        "\n",
        "To generate some synthetic data, we fill a tensor of (batch_size x nb_steps x nb_inputs) with random uniform numbers between 0 and 1 and use this to generate our input dataset:"
      ]
    },
    {
      "cell_type": "code",
      "metadata": {
        "id": "tkR2pzgSXiYc"
      },
      "source": [
        "freq = 5 # Hz\n",
        "prob = freq*time_step\n",
        "mask = torch.rand((batch_size,nb_steps,nb_inputs), device=device, dtype=dtype)\n",
        "x_data = torch.zeros((batch_size,nb_steps,nb_inputs), device=device, dtype=dtype, requires_grad=False)\n",
        "x_data[mask<prob] = 1.0"
      ],
      "execution_count": null,
      "outputs": []
    },
    {
      "cell_type": "markdown",
      "metadata": {
        "id": "-DuGX08WXiYd"
      },
      "source": [
        "If the plot the spike raster of the first input pattern, this synthetic dataset looks as follows."
      ]
    },
    {
      "cell_type": "code",
      "metadata": {
        "id": "La5DycJiXiYd",
        "colab": {
          "base_uri": "https://localhost:8080/",
          "height": 282
        },
        "outputId": "cd123717-b303-4a30-8e13-4904a214bd6f"
      },
      "source": [
        "data_id = 0\n",
        "plt.imshow(x_data[data_id].cpu().t(), cmap=plt.cm.gray_r, aspect=\"auto\")\n",
        "plt.xlabel(\"Time (ms)\")\n",
        "plt.ylabel(\"Unit\")\n",
        "sns.despine()"
      ],
      "execution_count": null,
      "outputs": [
        {
          "output_type": "display_data",
          "data": {
            "image/png": "[encoded data removed]",
            "text/plain": [
              "<Figure size 432x288 with 1 Axes>"
            ]
          },
          "metadata": {
            "tags": [],
            "needs_background": "light"
          }
        }
      ]
    },
    {
      "cell_type": "markdown",
      "metadata": {
        "id": "PyHyQRn9XiYf"
      },
      "source": [
        "Next, we assign a random label of 0 or 1 to each of our input patterns. Our network's task will be to differentiate these patterns."
      ]
    },
    {
      "cell_type": "code",
      "metadata": {
        "id": "Q9xPAJSCXiYg"
      },
      "source": [
        "y_data = torch.tensor(1*(np.random.rand(batch_size)<0.5), device=device)"
      ],
      "execution_count": null,
      "outputs": []
    },
    {
      "cell_type": "markdown",
      "metadata": {
        "id": "RhJPhLzUXiYg"
      },
      "source": [
        "Note that there is no structure in the data (because it is entirely random). Thus we won't worry about generalization now and only care about our ability to overfit these data with the spiking neural network we are going to build in a jiffy."
      ]
    },
    {
      "cell_type": "markdown",
      "metadata": {
        "id": "WPAhzgVTXiYg"
      },
      "source": [
        "### Setup of the spiking network model"
      ]
    },
    {
      "cell_type": "markdown",
      "metadata": {
        "id": "RoM3vD-0XiYg"
      },
      "source": [
        "Now is the time to implement our LIF neuron model in discrete time.\n",
        "We will first do this step by step before we wrap all the steps into a function later on.\n",
        "But first, we fix several model constants such as the membrane and the synaptic time constant. Moreover, we define some essential variables, including $\\beta$ as described above. We do this now because we will use some of these variables to scale our weights to meaningful ranges."
      ]
    },
    {
      "cell_type": "code",
      "metadata": {
        "id": "o3OjcybHXiYh"
      },
      "source": [
        "tau_mem = 10e-3\n",
        "\n",
        "beta    = float(np.exp(-time_step/tau_mem))"
      ],
      "execution_count": null,
      "outputs": []
    },
    {
      "cell_type": "markdown",
      "metadata": {
        "id": "-Dda28V3XiYh"
      },
      "source": [
        "Now we set up our weight matrices, which connect the input and the hidden layer, as well as the matrix connecting the hidden layer with the output layer. Moreover, we initialize these weights randomly from a normal distribution. Note that we scale the variance with the inverse square root of the number of input connections. Moreover, for the sake of simplicity, we ignore Dale's law in this tutorial. Thus weights can be either excitatory or inhibitory. This choice is prevalent in artificial neural networks."
      ]
    },
    {
      "cell_type": "code",
      "metadata": {
        "id": "ed2_Wj-UXiYh",
        "colab": {
          "base_uri": "https://localhost:8080/"
        },
        "outputId": "065810fb-b312-4fd5-b0c5-bdbf86ea01c4"
      },
      "source": [
        "weight_scale = 50*(1.0-beta) # this should give us some spikes to begin with\n",
        "\n",
        "w1 = torch.empty((nb_inputs, nb_hidden),  device=device, dtype=dtype, requires_grad=True)\n",
        "torch.nn.init.normal_(w1, mean=0.0, std=weight_scale/np.sqrt(nb_inputs))\n",
        "\n",
        "w2 = torch.empty((nb_hidden, nb_outputs), device=device, dtype=dtype, requires_grad=True)\n",
        "torch.nn.init.normal_(w2, mean=0.0, std=weight_scale/np.sqrt(nb_hidden))\n",
        "\n",
        "print(\"init done\")"
      ],
      "execution_count": null,
      "outputs": [
        {
          "output_type": "stream",
          "text": [
            "init done\n"
          ],
          "name": "stdout"
        }
      ]
    },
    {
      "cell_type": "markdown",
      "metadata": {
        "id": "TRL52O9lXiYh"
      },
      "source": [
        "### A spiking neuron model in discrete time"
      ]
    },
    {
      "cell_type": "markdown",
      "metadata": {
        "id": "2ac10Z14XiYi"
      },
      "source": [
        "The first thing we need to do to implement our spiking neuron is to multiply all input spikes with the weight matrix. We have to do this for each time step in each input example in the batch. Because we have stored our input spikes in a rank three tensor we can express this operation in a single line:"
      ]
    },
    {
      "cell_type": "code",
      "metadata": {
        "id": "i0AjyBCzXiYi"
      },
      "source": [
        "h1 = torch.einsum(\"abc,cd->abd\", (x_data, w1)) # a: batch, b: time, c: input, d: hidden"
      ],
      "execution_count": null,
      "outputs": []
    },
    {
      "cell_type": "markdown",
      "metadata": {
        "id": "pir_ttuqXiYi"
      },
      "source": [
        "These \"weighted\" input spikes will now feed into our synaptic variable and, ultimately, the membrane potential. To trigger a spike, we need to define moreover a threshold or spike function, which we do in the following. We will later have to alter this definition to train the network, but more about that later."
      ]
    },
    {
      "cell_type": "markdown",
      "metadata": {
        "id": "WhlBeYPhXiYi"
      },
      "source": [
        "### The spiking nonlinearity (the naive way)\n",
        "\n",
        "In discrete-time, as explained earlier, we can formulate our spiking nonlinearity as a Heaviside step function. So let's begin with defining a Heaviside function. One way of implementing it is the following:"
      ]
    },
    {
      "cell_type": "code",
      "metadata": {
        "id": "fjo97aRYXiYj"
      },
      "source": [
        "def spike_fn(x):\n",
        "    out = torch.zeros_like(x)\n",
        "    out[x > 0] = 1.0\n",
        "    return out"
      ],
      "execution_count": null,
      "outputs": []
    },
    {
      "cell_type": "markdown",
      "metadata": {
        "id": "5DnH86_JXiYj"
      },
      "source": [
        "For each trial, we initialize the membrane potentials at zero.\n",
        "Next, we need to implement a loop that simulates our neuron models over time. \n",
        "Moreover, we will record the membrane potentials and output spikes of all trials and all neurons."
      ]
    },
    {
      "cell_type": "code",
      "metadata": {
        "id": "RLLyejLTXiYj"
      },
      "source": [
        "\n",
        "mem = torch.zeros((batch_size,nb_hidden), device=device, dtype=dtype)\n",
        "\n",
        "# Here we define two lists which we use to record the membrane potentials and output spikes\n",
        "mem_rec = [mem]\n",
        "spk_rec = [mem]\n",
        "\n",
        "# Here we loop over time\n",
        "for t in range(nb_steps):\n",
        "    # TODO: remove this line\n",
        "    spk = mem\n",
        "\n",
        "    # TODO: Recurrent equation for the membrane potential mem (leaky integration of h1[:,t])\n",
        "\n",
        "    # TODO: Thresholding to get spk from mem (assuming a threshold of 1.0)\n",
        "    \n",
        "    # TODO: Resetting mem\n",
        "\n",
        "\n",
        "    mem_rec.append(mem)\n",
        "    spk_rec.append(spk)\n",
        "\n",
        "    \n",
        "\n",
        "# Now we merge the recorded membrane potentials into a single tensor\n",
        "mem_rec = torch.stack(mem_rec,dim=1)\n",
        "spk_rec = torch.stack(spk_rec,dim=1)"
      ],
      "execution_count": null,
      "outputs": []
    },
    {
      "cell_type": "markdown",
      "metadata": {
        "id": "Xzn9TpZNXiYj"
      },
      "source": [
        "And that's it. The above loop has now simulated our neurons for '''nb_steps''' and stored their membrane traces and output spikes. Let us take a look at those membrane potentials in which we directly \"paste\" the spikes for visual inspection. We will directly plot multiple trials at once and define a little helper function for this purpose."
      ]
    },
    {
      "cell_type": "code",
      "metadata": {
        "id": "0XErjqHhXiYj"
      },
      "source": [
        "def plot_voltage_traces(mem, spk=None, dim=(3,5), spike_height=5):\n",
        "    gs=GridSpec(*dim)\n",
        "    if spk is not None:\n",
        "        dat = (mem+spike_height*spk).detach().cpu().numpy()\n",
        "    else:\n",
        "        dat = mem.detach().cpu().numpy()\n",
        "    for i in range(np.prod(dim)):\n",
        "        if i==0: a0=ax=plt.subplot(gs[i])\n",
        "        else: ax=plt.subplot(gs[i],sharey=a0)\n",
        "        ax.plot(dat[i])\n",
        "        ax.axis(\"off\")"
      ],
      "execution_count": null,
      "outputs": []
    },
    {
      "cell_type": "code",
      "metadata": {
        "id": "UG9U1_nFXiYk",
        "colab": {
          "base_uri": "https://localhost:8080/",
          "height": 339
        },
        "outputId": "8f12922c-623c-4270-da30-9cb3d0b1749d"
      },
      "source": [
        "fig=plt.figure(dpi=100)\n",
        "plot_voltage_traces(mem_rec, spk_rec)"
      ],
      "execution_count": null,
      "outputs": [
        {
          "output_type": "display_data",
          "data": {
            "image/png": "[encoded data removed]",
            "text/plain": [
              "<Figure size 600x400 with 15 Axes>"
            ]
          },
          "metadata": {
            "tags": [],
            "needs_background": "light"
          }
        }
      ]
    },
    {
      "cell_type": "markdown",
      "metadata": {
        "id": "pdWJIodWXiYk"
      },
      "source": [
        "As you can see, our random initialization gives us some sporadic spiking. Thus far, we have only an input layer and a spiking layer, which should become our hidden layer. Next, we will have to add a readout layer to our network."
      ]
    },
    {
      "cell_type": "markdown",
      "metadata": {
        "id": "Iso8mPbCXiYk"
      },
      "source": [
        "## Adding a readout layer\n",
        "\n",
        "To use our network as a classifier, we need to have a readout layer on whose output we can define a cost function. There are several possibilities for doing this. For instance, we could count output layer spikes, or we could directly define an objective function on the membrane potential of the output neurons. Here we will follow the latter approach, but keep in mind that there are many other possibilities of defining an output layer and respective cost functions on them.\n",
        "\n",
        "In the following, we will build the output layer as a population of leaky integrator neurons. The reason for this choice is that leaky integration is the natural way of how neurons receive the spiking output of their brethren. Moreover, because we will need this code again, we combine our code from above plus the added readout layer into a single function."
      ]
    },
    {
      "cell_type": "code",
      "metadata": {
        "id": "e4H6B_46XiYk"
      },
      "source": [
        "def run_snn(inputs):\n",
        "    h1 = torch.einsum(\"abc,cd->abd\", (inputs, w1)) # a: batch, b: time, c: input, d: hidden\n",
        "    mem = torch.zeros((batch_size,nb_hidden), device=device, dtype=dtype)\n",
        "\n",
        "    mem_rec = [mem]\n",
        "    spk_rec = [mem]\n",
        "\n",
        "    # Compute hidden layer activity\n",
        "    for t in range(nb_steps):\n",
        "\n",
        "        # TODO: remove this line\n",
        "        spk = mem\n",
        "\n",
        "        # TODO: Recurrent equation for the membrane potential mem (leaky integration of h1[:,t])\n",
        "    \n",
        "        # TODO: Thresholding to get spk from mem (assuming a threshold of 1.0)\n",
        "        \n",
        "        # TODO: Resetting mem\n",
        "\n",
        "\n",
        "        mem_rec.append(mem)\n",
        "        spk_rec.append(spk)\n",
        "\n",
        "    mem_rec = torch.stack(mem_rec,dim=1)\n",
        "    spk_rec = torch.stack(spk_rec,dim=1)\n",
        "\n",
        "    # Readout layer\n",
        "    h2= torch.einsum(\"abc,cd->abd\", (spk_rec, w2)) # a: batch, b: time, c: hidden, d: output\n",
        "    out = torch.zeros((batch_size,nb_outputs), device=device, dtype=dtype)\n",
        "    out_rec = [out]\n",
        "    for t in range(nb_steps):\n",
        "\n",
        "        # TODO: remove this line\n",
        "        out = h2[:,t]\n",
        "        # TODO: Recurrent equation for the membrane potential out (leaky integration of h2[:,t])\n",
        "\n",
        "        out_rec.append(out)\n",
        "\n",
        "    out_rec = torch.stack(out_rec,dim=1)\n",
        "    other_recs = [mem_rec, spk_rec]\n",
        "    return out_rec, other_recs"
      ],
      "execution_count": null,
      "outputs": []
    },
    {
      "cell_type": "markdown",
      "metadata": {
        "id": "sd7l0eE0XiYl"
      },
      "source": [
        "We can now run this code and plot the output layer \"membrane potentials\" below. As desired, these potentials do not have spikes riding on them."
      ]
    },
    {
      "cell_type": "code",
      "metadata": {
        "id": "NKrdXhfLXiYl"
      },
      "source": [
        "out_rec,other_recs = run_snn(x_data)"
      ],
      "execution_count": null,
      "outputs": []
    },
    {
      "cell_type": "code",
      "metadata": {
        "id": "EyaBlmFFXiYl",
        "colab": {
          "base_uri": "https://localhost:8080/",
          "height": 339
        },
        "outputId": "0a373fda-e239-4bfe-ef53-0a17a5806c0d"
      },
      "source": [
        "fig=plt.figure(dpi=100)\n",
        "plot_voltage_traces(out_rec)"
      ],
      "execution_count": null,
      "outputs": [
        {
          "output_type": "display_data",
          "data": {
            "image/png": "[encoded data removed]",
            "text/plain": [
              "<Figure size 600x400 with 15 Axes>"
            ]
          },
          "metadata": {
            "tags": [],
            "needs_background": "light"
          }
        }
      ]
    },
    {
      "cell_type": "markdown",
      "metadata": {
        "id": "L88xQutJXiYm"
      },
      "source": [
        "By preventing the output neurons from spiking themselves, we can define a relatively smooth objective on their membrane voltages directly. Specifically, we use the maximum voltage over time of each output unit\n",
        "$$\\hat U^\\mathrm{out}_i=\\max_t U^\\mathrm{out}_i(t)$$\n",
        "and then use this vector as input for either an argmax to compute the classification accuracy or as we will see below as input for a standard softmax function in conjunction with a negative log-likelihood loss for optimizing the weights in the network. \n",
        "\n",
        "Let us first compute the classification accuracy of this random network. We will see that this accuracy is somewhere around 50% as it should be since that corresponds to the chance level of our synthetic task."
      ]
    },
    {
      "cell_type": "code",
      "metadata": {
        "id": "cmOOoSV6XiYm",
        "colab": {
          "base_uri": "https://localhost:8080/"
        },
        "outputId": "042dc979-c7d5-4a24-8924-4699a91485ab"
      },
      "source": [
        "def print_classification_accuracy():\n",
        "    \"\"\" Dirty little helper function to compute classification accuracy. \"\"\"\n",
        "    output,_ = run_snn(x_data)\n",
        "    m,_= torch.max(output,1) # max over time\n",
        "    _,am=torch.max(m,1) # argmax over output units\n",
        "    acc = np.mean((y_data==am).detach().cpu().numpy()) # compare to labels\n",
        "    print(\"Accuracy %.3f\"%acc)\n",
        "    \n",
        "print_classification_accuracy()"
      ],
      "execution_count": null,
      "outputs": [
        {
          "output_type": "stream",
          "text": [
            "Accuracy 0.492\n"
          ],
          "name": "stdout"
        }
      ]
    },
    {
      "cell_type": "markdown",
      "metadata": {
        "id": "hqJCc9SaXiYm"
      },
      "source": [
        "## Supervised learning\n",
        "\n",
        "So far, we have built the infrastructure to simulate our spiking neural network, but we have worked with purely random network weights thus far.\n",
        "The vanilla method to adjust network weights to decrease the specified objective is gradient descent. \n",
        "Machine learning libraries like Tensorflow and PyTorch make implementing gradient descent a breeze.\n",
        "We first perform gradient descent on the correct gradient and use this as a motivation for introducing surrogate gradients.\n",
        "Here we go."
      ]
    },
    {
      "cell_type": "markdown",
      "metadata": {
        "id": "phK5g5B_XiYm"
      },
      "source": [
        "### Supervised learning with the true gradient"
      ]
    },
    {
      "cell_type": "code",
      "metadata": {
        "id": "qjRW47CHXiYn",
        "colab": {
          "base_uri": "https://localhost:8080/"
        },
        "outputId": "49c307f3-203a-4325-b2dc-f3b79b8cfb94"
      },
      "source": [
        "params = [w1,w2] # The paramters we want to optimize\n",
        "optimizer = torch.optim.Adam(params, lr=2e-3, betas=(0.9,0.999)) # The optimizer we are going to use\n",
        "\n",
        "log_softmax_fn = nn.LogSoftmax(dim=1) # The log softmax function across output units\n",
        "loss_fn = nn.NLLLoss() # The negative log likelihood loss function\n",
        "\n",
        "# The optimization loop\n",
        "loss_hist = []\n",
        "for e in range(10):\n",
        "\n",
        "    if e%100==0:\n",
        "      print(e)\n",
        "\n",
        "    # run the network and get output\n",
        "    output,_ = run_snn(x_data) \n",
        "    # compute the loss\n",
        "    m,_=torch.max(output,1)\n",
        "    log_p_y = log_softmax_fn(m) \n",
        "    loss_val = loss_fn(log_p_y, y_data)\n",
        "\n",
        "    # update the weights\n",
        "    optimizer.zero_grad()\n",
        "    loss_val.backward()\n",
        "    optimizer.step()\n",
        "    \n",
        "    # store loss value\n",
        "    loss_hist.append(loss_val.item())\n",
        "    \n",
        "loss_hist_true_grad = loss_hist # store for later use"
      ],
      "execution_count": null,
      "outputs": [
        {
          "output_type": "stream",
          "text": [
            "0\n"
          ],
          "name": "stdout"
        }
      ]
    },
    {
      "cell_type": "code",
      "metadata": {
        "id": "tGWgUX_TXiYn",
        "colab": {
          "base_uri": "https://localhost:8080/",
          "height": 280
        },
        "outputId": "3a041233-c284-4d9a-99ba-bdb5888dc6fe"
      },
      "source": [
        "plt.plot(loss_hist)\n",
        "plt.xlabel(\"Epoch\")\n",
        "plt.ylabel(\"Loss\")\n",
        "sns.despine()"
      ],
      "execution_count": null,
      "outputs": [
        {
          "output_type": "display_data",
          "data": {
            "image/png": "[encoded data removed]",
            "text/plain": [
              "<Figure size 432x288 with 1 Axes>"
            ]
          },
          "metadata": {
            "tags": [],
            "needs_background": "light"
          }
        }
      ]
    },
    {
      "cell_type": "code",
      "metadata": {
        "id": "62VOiixRXiYn",
        "colab": {
          "base_uri": "https://localhost:8080/"
        },
        "outputId": "ec524832-61aa-4995-d78d-768d8d5fd4ea"
      },
      "source": [
        "print_classification_accuracy()"
      ],
      "execution_count": null,
      "outputs": [
        {
          "output_type": "stream",
          "text": [
            "Accuracy 0.492\n"
          ],
          "name": "stdout"
        }
      ]
    },
    {
      "cell_type": "markdown",
      "metadata": {
        "id": "mxRQWR_yXiYo"
      },
      "source": [
        "We appreciate that loss decreases over iterations and converges towards a steady state. The classification accuracy, however, does not seem to improve dramatically throughout the optimization. What a shame! \n",
        "\n",
        "The underlying reason is that the nonlinearity of the hidden units have zero derivatives everywhere except at threshold crossings, where they become infinite. In practice that means that weight updates in the hidden layer vanish and the weights remain unmodified. By plotting the hidden layer activations and comparing them with what we have plotted before, we will see that these activations have not changed at all. Thus no learning happens in the hidden layer. The reason why the loss decreased initially during optimization is that the output layer weights could still change and allow for some improvement (even if it was very little).\n",
        "\n",
        "To improve performance, we need to get the hidden layer units to take part in learning. To achieve this, we will introduce a surrogate gradient in the next section."
      ]
    },
    {
      "cell_type": "code",
      "metadata": {
        "id": "SsTQevJiXiYo"
      },
      "source": [
        "output,other_recordings = run_snn(x_data)\n",
        "mem_rec, spk_rec = other_recordings"
      ],
      "execution_count": null,
      "outputs": []
    },
    {
      "cell_type": "code",
      "metadata": {
        "id": "An9y0GoBXiYo",
        "colab": {
          "base_uri": "https://localhost:8080/",
          "height": 339
        },
        "outputId": "9075c157-2457-4f0f-e83e-9ae0334a5f9d"
      },
      "source": [
        "fig=plt.figure(dpi=100)\n",
        "plot_voltage_traces(mem_rec, spk_rec)"
      ],
      "execution_count": null,
      "outputs": [
        {
          "output_type": "display_data",
          "data": {
            "image/png": "[encoded data removed]",
            "text/plain": [
              "<Figure size 600x400 with 15 Axes>"
            ]
          },
          "metadata": {
            "tags": [],
            "needs_background": "light"
          }
        }
      ]
    },
    {
      "cell_type": "code",
      "metadata": {
        "id": "NgEShPveXiYo",
        "colab": {
          "base_uri": "https://localhost:8080/",
          "height": 339
        },
        "outputId": "f03311b0-efab-4696-d5e7-b9edb7109f0f"
      },
      "source": [
        "fig=plt.figure(dpi=100)\n",
        "plot_voltage_traces(output)"
      ],
      "execution_count": null,
      "outputs": [
        {
          "output_type": "display_data",
          "data": {
            "image/png": "[encoded data removed]",
            "text/plain": [
              "<Figure size 600x400 with 15 Axes>"
            ]
          },
          "metadata": {
            "tags": [],
            "needs_background": "light"
          }
        }
      ]
    },
    {
      "cell_type": "markdown",
      "metadata": {
        "id": "_oqiXiBSXiYp"
      },
      "source": [
        "### Supervised learning with surrogate gradients\n",
        "\n",
        "In the last section, we saw that the hidden layer units did not participate.\n",
        "The underlying reason is that the partial derivative of the step function we used has a vanishing derivative everywhere (except at zero where it becomes infinite).\n",
        "\n",
        "Most conventional neural networks avoid this problem by choosing a nonlinearity with non-zero partial derivative. For instance, sigmoidal or tanh units were standard during the beginnings of neural networks research. Today, ReLUs are more common. Importantly, all these activation functions have substantial non-zero support, which allows gradients to flow (to a greater or lesser extent).\n",
        "\n",
        "What do we if we want to stick to our binary nonlinearity? There have been several approaches to tackle this problem. Here we use one such strategy which has been applied successfully to spiking neural networks: We use a surrogate gradient approach.\n",
        "\n",
        "The idea behind a surrogate gradient is dead simple. Instead of changing the nonlinearity itself, we only change the gradient. Thus we use a different \"surrogate\" gradient to optimize parameters that would otherwise have a vanishing gradient.\n",
        "\n",
        "<img src=\"https://github.com/fzenke/spytorch/blob/master/notebooks/figures/surrgrad/surrgrad.png?raw=1\" width=\"450\">\n",
        "Specifically, we use the partial derivative of a function which to some extent approximates the stepfunction $\\Theta(x)$.\n",
        "In what follows, chiefly, we will use (up to rescaling) the partial derivative of a fast sigmoid function $\\sigma(x)$. \n",
        "While $\\Theta$ is invariant to multiplicative rescaling, $\\sigma$ isn't. Thus we have to introduce a scale parameter."
      ]
    },
    {
      "cell_type": "code",
      "metadata": {
        "id": "1gMjHKMxXiYp"
      },
      "source": [
        "class SurrGradSpike(torch.autograd.Function):\n",
        "    \"\"\"\n",
        "    Here we implement our spiking nonlinearity which also implements \n",
        "    the surrogate gradient. By subclassing torch.autograd.Function, \n",
        "    we will be able to use all of PyTorch's autograd functionality.\n",
        "    Here we use the normalized negative part of a fast sigmoid \n",
        "    as this was done in Zenke & Ganguli (2018).\n",
        "    \"\"\"\n",
        "    \n",
        "    scale = 100.0 # controls steepness of surrogate gradient\n",
        "\n",
        "    @staticmethod\n",
        "    def forward(ctx, input):\n",
        "        \"\"\"\n",
        "        In the forward pass we compute a step function of the input Tensor\n",
        "        and return it. ctx is a context object that we use to stash information which \n",
        "        we need to later backpropagate our error signals. To achieve this we use the \n",
        "        ctx.save_for_backward method.\n",
        "        \"\"\"\n",
        "        ctx.save_for_backward(input)\n",
        "        out = torch.zeros_like(input)\n",
        "        out[input > 0] = 1.0\n",
        "        return out\n",
        "\n",
        "    @staticmethod\n",
        "    def backward(ctx, grad_output):\n",
        "        \"\"\"\n",
        "        In the backward pass we receive a Tensor we need to compute the \n",
        "        surrogate gradient of the loss with respect to the input. \n",
        "        Here we use the normalized negative part of a fast sigmoid \n",
        "        as this was done in Zenke & Ganguli (2018).\n",
        "        \"\"\"\n",
        "        input, = ctx.saved_tensors\n",
        "        grad_input = grad_output.clone()\n",
        "        grad = grad_input/(SurrGradSpike.scale*torch.abs(input)+1.0)**2\n",
        "        return grad\n",
        "    \n",
        "# here we overwrite our naive spike function by the \"SurrGradSpike\" nonlinearity which implements a surrogate gradient\n",
        "spike_fn  = SurrGradSpike.apply"
      ],
      "execution_count": null,
      "outputs": []
    },
    {
      "cell_type": "code",
      "metadata": {
        "id": "vsP5jComXiYp",
        "colab": {
          "base_uri": "https://localhost:8080/"
        },
        "outputId": "beac258b-0a83-470f-eb1c-e8a747ab8049"
      },
      "source": [
        "# The following lines will reinitialize the weights\n",
        "torch.nn.init.normal_(w1, mean=0.0, std=weight_scale/np.sqrt(nb_inputs))\n",
        "torch.nn.init.normal_(w2, mean=0.0, std=weight_scale/np.sqrt(nb_hidden))\n",
        "print(\"init done\")"
      ],
      "execution_count": null,
      "outputs": [
        {
          "output_type": "stream",
          "text": [
            "init done\n"
          ],
          "name": "stdout"
        }
      ]
    },
    {
      "cell_type": "code",
      "metadata": {
        "id": "LrOOTC_-XiYq",
        "colab": {
          "base_uri": "https://localhost:8080/"
        },
        "outputId": "8f6dd8c6-ecf2-4d64-e2b3-aec56c41d1c0"
      },
      "source": [
        "params = [w1,w2]\n",
        "optimizer = torch.optim.Adam(params, lr=2e-3, betas=(0.9,0.999))\n",
        "\n",
        "log_softmax_fn = nn.LogSoftmax(dim=1)\n",
        "loss_fn = nn.NLLLoss()\n",
        "\n",
        "loss_hist = []\n",
        "for e in range(1000):\n",
        "  \n",
        "    if e%100==0:\n",
        "      print(e)\n",
        "\n",
        "    output,_ = run_snn(x_data)\n",
        "    m,_=torch.max(output,1)\n",
        "    log_p_y = log_softmax_fn(m)\n",
        "    loss_val = loss_fn(log_p_y, y_data)\n",
        "\n",
        "    optimizer.zero_grad()\n",
        "    loss_val.backward()\n",
        "    optimizer.step()\n",
        "    loss_hist.append(loss_val.item())"
      ],
      "execution_count": null,
      "outputs": [
        {
          "output_type": "stream",
          "text": [
            "0\n",
            "100\n",
            "200\n",
            "300\n",
            "400\n",
            "500\n",
            "600\n",
            "700\n",
            "800\n",
            "900\n"
          ],
          "name": "stdout"
        }
      ]
    },
    {
      "cell_type": "code",
      "metadata": {
        "id": "FsB7z7wBXiYq",
        "colab": {
          "base_uri": "https://localhost:8080/",
          "height": 336
        },
        "outputId": "925db000-9963-429d-a97c-102146c5dd59"
      },
      "source": [
        "plt.figure(figsize=(3.3,2),dpi=150)\n",
        "plt.plot(loss_hist_true_grad, label=\"True gradient\")\n",
        "plt.plot(loss_hist, label=\"Surrogate gradient\")\n",
        "plt.xlabel(\"Epoch\")\n",
        "plt.ylabel(\"Loss\")\n",
        "plt.legend()\n",
        "sns.despine()"
      ],
      "execution_count": null,
      "outputs": [
        {
          "output_type": "display_data",
          "data": {
            "image/png": "[encoded data removed]",
            "text/plain": [
              "<Figure size 495x300 with 1 Axes>"
            ]
          },
          "metadata": {
            "tags": [],
            "needs_background": "light"
          }
        }
      ]
    },
    {
      "cell_type": "code",
      "metadata": {
        "id": "hbP8E2ojXiYr"
      },
      "source": [
        "output,other_recordings = run_snn(x_data)\n",
        "mem_rec, spk_rec = other_recordings"
      ],
      "execution_count": null,
      "outputs": []
    },
    {
      "cell_type": "code",
      "metadata": {
        "id": "Lpj6WyDQXiYr",
        "colab": {
          "base_uri": "https://localhost:8080/",
          "height": 339
        },
        "outputId": "8972554c-2620-4b9d-aa37-cf0c138317f0"
      },
      "source": [
        "fig=plt.figure(dpi=100)\n",
        "plot_voltage_traces(mem_rec, spk_rec)"
      ],
      "execution_count": null,
      "outputs": [
        {
          "output_type": "display_data",
          "data": {
            "image/png": "[encoded data removed]",
            "text/plain": [
              "<Figure size 600x400 with 15 Axes>"
            ]
          },
          "metadata": {
            "tags": [],
            "needs_background": "light"
          }
        }
      ]
    },
    {
      "cell_type": "code",
      "metadata": {
        "id": "1GidNFTlXiYr",
        "colab": {
          "base_uri": "https://localhost:8080/",
          "height": 339
        },
        "outputId": "2bb610bf-3889-4b57-bf45-ea730cce7bf2"
      },
      "source": [
        "fig=plt.figure(dpi=100)\n",
        "plot_voltage_traces(output)"
      ],
      "execution_count": null,
      "outputs": [
        {
          "output_type": "display_data",
          "data": {
            "image/png": "[encoded data removed]",
            "text/plain": [
              "<Figure size 600x400 with 15 Axes>"
            ]
          },
          "metadata": {
            "tags": [],
            "needs_background": "light"
          }
        }
      ]
    },
    {
      "cell_type": "code",
      "metadata": {
        "id": "qUQxs4XCXiYs",
        "colab": {
          "base_uri": "https://localhost:8080/"
        },
        "outputId": "9ee653f8-09fd-4414-f45a-8a37116b06eb"
      },
      "source": [
        "output,_ = run_snn(x_data)\n",
        "m,_=torch.max(output,1)\n",
        "\n",
        "# Compute training accuracy\n",
        "_,am=torch.max(m,1)\n",
        "acc = np.mean((y_data==am).detach().cpu().numpy())\n",
        "print(\"Accuracy %f\"%acc)"
      ],
      "execution_count": null,
      "outputs": [
        {
          "output_type": "stream",
          "text": [
            "Accuracy 0.492188\n"
          ],
          "name": "stdout"
        }
      ]
    },
    {
      "cell_type": "markdown",
      "metadata": {
        "id": "RhgNpnvmSqTv"
      },
      "source": [
        "TODO: try to predict the impact of increasing nb_inputs, nb_hidden, nb_steps or batch_size on the accuracy, and run the code to check whether your intuition is true."
      ]
    },
    {
      "cell_type": "markdown",
      "metadata": {
        "id": "VZO-fx1KXiYs"
      },
      "source": [
        "<a rel=\"license\" href=\"http://creativecommons.org/licenses/by/4.0/\"><img alt=\"Creative Commons License\" style=\"border-width:0\" src=\"https://i.creativecommons.org/l/by/4.0/88x31.png\" /></a><br />This work is licensed under a <a rel=\"license\" href=\"http://creativecommons.org/licenses/by/4.0/\">Creative Commons Attribution 4.0 International License</a>."
      ]
    }
  ]
}