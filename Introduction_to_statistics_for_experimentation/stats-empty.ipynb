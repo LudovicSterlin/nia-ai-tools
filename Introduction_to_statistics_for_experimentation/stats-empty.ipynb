{
 "cells": [
  {
   "cell_type": "markdown",
   "metadata": {},
   "source": [
    "<h1 class=\"text-center\">NeuroIA - Introduction to statistics for experimentation - 10/12/2020</h1>\n",
    "\n",
    "<br>\n",
    "\n",
    "<div class=\"jumbotron text-center\"><b>The purpose of this tutorial is to learn how to infer statistically significant results from data.</b></div>\n",
    "\n",
    "Import the following libraries and functions."
   ]
  },
  {
   "cell_type": "code",
   "execution_count": 1,
   "metadata": {},
   "outputs": [],
   "source": [
    "# This action is to be done once at the beginning of the tutorial\n",
    "%matplotlib inline\n",
    "import numpy as np\n",
    "from numpy import genfromtxt\n",
    "import scipy\n",
    "from scipy.stats import binom, norm\n",
    "import matplotlib\n",
    "import matplotlib.pyplot as plt"
   ]
  },
  {
   "cell_type": "markdown",
   "metadata": {},
   "source": [
    "<br>\n",
    "<a id=\"1BIT\"></a><h1>I. Overview </h1>\n",
    "\n",
    "<div class=\"bg-danger\" style=\"padding:1em\"><b>Definition:</b> RR data (or Inter-Beat Intervals, IBI) is the duration between two pulsations in an electrocardiography.</div>\n",
    "\n",
    "\n",
    "\n",
    "First, we wish to pre-process data from electrocardiography equipment.\n",
    "Load the file \"FarosRR.csv\" which contains this physiological data."
   ]
  },
  {
   "cell_type": "code",
   "execution_count": 2,
   "metadata": {},
   "outputs": [
    {
     "name": "stdout",
     "output_type": "stream",
     "text": [
      "[[   648.76 -31874.  ]\n",
      " [   649.57 -31912.  ]\n",
      " [   650.35 -31894.  ]\n",
      " ...\n",
      " [  3952.1  -31656.  ]\n",
      " [  3953.1  -31723.  ]\n",
      " [  3954.1  -31840.  ]]\n"
     ]
    }
   ],
   "source": [
    "# load heart rate data\n",
    "rr_data = genfromtxt('FarosRR.csv', delimiter=',')\n",
    "print(rr_data)"
   ]
  },
  {
   "cell_type": "markdown",
   "metadata": {},
   "source": [
    "<p class=\"bg-primary\" style=\"padding:1em\">**QUESTION** The data recording is shifted by $-2^{15}$. Fill in the code below to get the correct values in milliseconds.</p>."
   ]
  },
  {
   "cell_type": "code",
   "execution_count": 3,
   "metadata": {},
   "outputs": [
    {
     "name": "stdout",
     "output_type": "stream",
     "text": [
      "[[ 648.76  894.  ]\n",
      " [ 649.57  856.  ]\n",
      " [ 650.35  874.  ]\n",
      " ...\n",
      " [3952.1  1112.  ]\n",
      " [3953.1  1045.  ]\n",
      " [3954.1   928.  ]]\n"
     ]
    }
   ],
   "source": [
    "rr_data[:,1]+= 2**15\n",
    "print(rr_data)"
   ]
  },
  {
   "cell_type": "markdown",
   "metadata": {},
   "source": [
    "<p class=\"bg-primary\" style=\"padding:1em\"> Creation of qualitative variables. Load the file \"rests.csv\" which contains the times of the rest sessions.</p>"
   ]
  },
  {
   "cell_type": "code",
   "execution_count": 4,
   "metadata": {},
   "outputs": [
    {
     "name": "stdout",
     "output_type": "stream",
     "text": [
      "[[ 678.65  738.66]\n",
      " [1506.3  1566.3 ]\n",
      " [2296.7  2356.7 ]\n",
      " [3094.7  3154.7 ]]\n"
     ]
    }
   ],
   "source": [
    "# load times of the rest sessions\n",
    "rests_data = genfromtxt('rests.csv', delimiter=',')\n",
    "print(rests_data)"
   ]
  },
  {
   "cell_type": "markdown",
   "metadata": {},
   "source": [
    "<p class=\"bg-primary\" style=\"padding:1em\"> Selects the RR data that correspond to the first rest session.</p>"
   ]
  },
  {
   "cell_type": "code",
   "execution_count": 5,
   "metadata": {
    "scrolled": true
   },
   "outputs": [
    {
     "name": "stdout",
     "output_type": "stream",
     "text": [
      "[ 808.  763.  703.  685.  750.  826. 1221. 1059.  882.  766.  742.  806.\n",
      "  944. 1223. 1088.  940.  867.  825.  811.  754.  780.  885. 1040. 1187.\n",
      " 1090.  959.  893.  803.  795.  802.  878. 1036. 1026.  909.  787.  817.\n",
      "  818.  990. 1024.  924.  943.  955.  965.  875.  833.  853.  854.  855.\n",
      "  826.  875.  889. 1030.  993.  948.  901.  880.  811.  840.  904.  941.\n",
      "  894.  878.  967. 1028. 1038.  940.  935.]\n"
     ]
    }
   ],
   "source": [
    "isRest = np.array([rests_data[0,0]<rr_data[:,0],rests_data[0,1]>rr_data[:,0]])\n",
    "isRest = isRest.all(axis=0)\n",
    "rest_data = rr_data[isRest,1]\n",
    "print(rest_data)"
   ]
  },
  {
   "cell_type": "markdown",
   "metadata": {},
   "source": [
    "<p class=\"bg-primary\" style=\"padding:1em\"> Selects RR data for an interval of 60 seconds after one minute of mission.</p>"
   ]
  },
  {
   "cell_type": "code",
   "execution_count": 6,
   "metadata": {},
   "outputs": [
    {
     "name": "stdout",
     "output_type": "stream",
     "text": [
      "[750. 764. 805. 801. 821. 809. 734. 757. 710. 734. 777. 846. 940. 842.\n",
      " 836. 807. 788. 841. 918. 834. 840. 796. 755. 770. 779. 828. 986. 938.\n",
      " 814. 833. 814. 822. 835. 927. 852. 808. 848. 857. 795. 848. 852. 817.\n",
      " 860. 941. 900. 823. 789. 779. 797. 886. 940. 883. 817. 795. 810. 914.\n",
      " 900. 813. 843. 836. 826. 872. 855. 767. 779. 792. 840. 828. 889. 833.\n",
      " 796. 825.]\n"
     ]
    }
   ],
   "source": [
    "isMission = np.array([rests_data[0,1]+60<rr_data[:,0],rests_data[0,1]+2*60>rr_data[:,0]])\n",
    "isMission = isMission.all(axis=0)\n",
    "mission_data = rr_data[isMission,1]\n",
    "print(mission_data)"
   ]
  },
  {
   "cell_type": "markdown",
   "metadata": {},
   "source": [
    "<p class=\"bg-primary\" style=\"padding:1em\">**QUESTION** Compute the average of these values.</p>"
   ]
  },
  {
   "cell_type": "code",
   "execution_count": 7,
   "metadata": {},
   "outputs": [
    {
     "ename": "SyntaxError",
     "evalue": "invalid syntax (<ipython-input-7-2f139879c128>, line 1)",
     "output_type": "error",
     "traceback": [
      "\u001b[0;36m  File \u001b[0;32m\"<ipython-input-7-2f139879c128>\"\u001b[0;36m, line \u001b[0;32m1\u001b[0m\n\u001b[0;31m    mean_rest = # fill the code\u001b[0m\n\u001b[0m                               ^\u001b[0m\n\u001b[0;31mSyntaxError\u001b[0m\u001b[0;31m:\u001b[0m invalid syntax\n"
     ]
    }
   ],
   "source": [
    "mean_rest = # fill the code\n",
    "mean_mission = # fill the code\n",
    "print('mean of rest session = ' + str(mean_rest))\n",
    "print('mean of mission session = ' + str(mean_mission))"
   ]
  },
  {
   "cell_type": "markdown",
   "metadata": {},
   "source": [
    "<p class=\"bg-primary\" style=\"padding:1em\">**QUESTION** Compute the standard deviation these values.</p>"
   ]
  },
  {
   "cell_type": "code",
   "execution_count": 8,
   "metadata": {},
   "outputs": [
    {
     "ename": "SyntaxError",
     "evalue": "invalid syntax (<ipython-input-8-c17b26fa579e>, line 1)",
     "output_type": "error",
     "traceback": [
      "\u001b[0;36m  File \u001b[0;32m\"<ipython-input-8-c17b26fa579e>\"\u001b[0;36m, line \u001b[0;32m1\u001b[0m\n\u001b[0;31m    std_rest = # fill the code\u001b[0m\n\u001b[0m                              ^\u001b[0m\n\u001b[0;31mSyntaxError\u001b[0m\u001b[0;31m:\u001b[0m invalid syntax\n"
     ]
    }
   ],
   "source": [
    "std_rest = # fill the code\n",
    "std_mission = # fill the code\n",
    "print('std of rest session = ' + str(std_rest))\n",
    "print('std of mission session = ' + str(std_mission))"
   ]
  },
  {
   "cell_type": "markdown",
   "metadata": {},
   "source": [
    "<p class=\"bg-primary\" style=\"padding:1em\"> Plot the boxplots of these samples.</p>"
   ]
  },
  {
   "cell_type": "code",
   "execution_count": 9,
   "metadata": {},
   "outputs": [
    {
     "data": {
      "image/png": "[encoded data removed]",
      "text/plain": [
       "<Figure size 432x288 with 1 Axes>"
      ]
     },
     "metadata": {
      "needs_background": "light"
     },
     "output_type": "display_data"
    }
   ],
   "source": [
    "plt.boxplot([rest_data,mission_data]) \n",
    "plt.title(\"boxplots\") \n",
    "plt.show()"
   ]
  },
  {
   "cell_type": "markdown",
   "metadata": {},
   "source": [
    "<p class=\"bg-primary\" style=\"padding:1em\"> Plot the histograms of these samples.</p>"
   ]
  },
  {
   "cell_type": "code",
   "execution_count": 10,
   "metadata": {},
   "outputs": [
    {
     "data": {
      "image/png": "[encoded data removed]",
      "text/plain": [
       "<Figure size 432x288 with 1 Axes>"
      ]
     },
     "metadata": {
      "needs_background": "light"
     },
     "output_type": "display_data"
    }
   ],
   "source": [
    "xmin = 400\n",
    "xmax = 1400\n",
    "size = 80\n",
    "plt.hist(rest_data,bins=range(xmin,xmax,size),label='rest',alpha=0.5)\n",
    "plt.hist(mission_data,bins=range(xmin,xmax,size),label='mission',alpha=0.5)\n",
    "plt.legend(loc='upper right')\n",
    "plt.title(\"histogram mission\") \n",
    "plt.show()"
   ]
  },
  {
   "cell_type": "markdown",
   "metadata": {},
   "source": [
    "<p class=\"bg-primary\" style=\"padding:1em\">**QUESTION** Plot the kernel density estimates of these samples using scipy.stats.gaussian_kde.</p>"
   ]
  },
  {
   "cell_type": "code",
   "execution_count": 11,
   "metadata": {},
   "outputs": [
    {
     "ename": "SyntaxError",
     "evalue": "invalid syntax (<ipython-input-11-7efd7d908554>, line 1)",
     "output_type": "error",
     "traceback": [
      "\u001b[0;36m  File \u001b[0;32m\"<ipython-input-11-7efd7d908554>\"\u001b[0;36m, line \u001b[0;32m1\u001b[0m\n\u001b[0;31m    density_rest = # fill the code\u001b[0m\n\u001b[0m                                  ^\u001b[0m\n\u001b[0;31mSyntaxError\u001b[0m\u001b[0;31m:\u001b[0m invalid syntax\n"
     ]
    }
   ],
   "source": [
    "density_rest = # fill the code\n",
    "density_mission = # fill the code\n",
    "x = range(xmin,xmax,1)\n",
    "y_rest = density_rest(x)\n",
    "y_mission = density_mission(x)\n",
    "plt.plot(x, y_rest, 'k.', markersize=5,color='blue',label='rest')\n",
    "plt.plot(x, y_mission, 'k.', markersize=5,color='red',label='mission')\n",
    "plt.legend(loc='upper right')\n",
    "plt.show()"
   ]
  },
  {
   "cell_type": "markdown",
   "metadata": {},
   "source": [
    "<p class=\"bg-primary\" style=\"padding:1em\">**QUESTION** Plot the kernel density estimates of normal data and the real density of a normal distribution.</p>"
   ]
  },
  {
   "cell_type": "code",
   "execution_count": 12,
   "metadata": {},
   "outputs": [
    {
     "ename": "SyntaxError",
     "evalue": "invalid syntax (<ipython-input-12-a61bf4125067>, line 5)",
     "output_type": "error",
     "traceback": [
      "\u001b[0;36m  File \u001b[0;32m\"<ipython-input-12-a61bf4125067>\"\u001b[0;36m, line \u001b[0;32m5\u001b[0m\n\u001b[0;31m    approx_density = #fill the code\u001b[0m\n\u001b[0m                                   ^\u001b[0m\n\u001b[0;31mSyntaxError\u001b[0m\u001b[0;31m:\u001b[0m invalid syntax\n"
     ]
    }
   ],
   "source": [
    "Xsize = 50\n",
    "# normal data simulation\n",
    "X = np.random.normal(size=Xsize)\n",
    "# approximation computation\n",
    "approx_density = #fill the code\n",
    "# plot approx\n",
    "x = np.linspace(-3,3,1000)\n",
    "y = approx_density(x)\n",
    "plt.plot(x, y, label='density approx.')\n",
    "# plot real density\n",
    "y_true = norm.pdf(x)\n",
    "plt.plot(x, y_true, label='normal density')\n",
    "# plot simulated data\n",
    "plt.plot(X,len(X)*[0.0],'k.', markersize=5,color='red')\n",
    "plt.legend(loc='upper right')\n",
    "plt.show()"
   ]
  },
  {
   "cell_type": "markdown",
   "metadata": {},
   "source": [
    "<div class=\"bg-danger\" style=\"padding:1em\"> \n",
    "    Let $n_1$ (resp. $n_2$) be the size of rest_data (resp. mission_data).\n",
    "</div> \n",
    "<div class=\"bg-danger\" style=\"padding:1em\"> \n",
    "    $\\bullet \\mu_{mission} = \\frac{1}{n_1} \\displaystyle \\sum_{i=1}^{n_1} mission\\_data(i)$,\n",
    "</div>\n",
    "<div class=\"bg-danger\" style=\"padding:1em\">\n",
    "    $\\bullet \\displaystyle \\mu_{rest} = \\frac{1}{n_2}  \\sum_{i=1}^{n_2} rest\\_data(i)$\n",
    "</div>\n",
    "<div class=\"bg-danger\" style=\"padding:1em\">\n",
    "    $\\bullet \\displaystyle \\widehat{\\sigma_M} = \\sqrt{ \\frac{(n_1-1)v_1 + (n_2-1)v_2}{n_1 + n_2 - 2} }$,\n",
    "</div>\n",
    "<div class=\"bg-danger\" style=\"padding:1em\">  \n",
    "    with $\\displaystyle v_1 = \\frac{1}{n-1} \\sum_{j=1}^n (mission\\_data(i) - \\mu_{mission})^2 $ \n",
    "    and $\\displaystyle v_2 = \\frac{1}{n-1} \\sum_{j=1}^n (rest\\_data(j) - \\mu_{mission})^2 $.\n",
    "</div>"
   ]
  },
  {
   "cell_type": "markdown",
   "metadata": {},
   "source": [
    "<p class=\"bg-primary\" style=\"padding:1em\">The function $S = \\dfrac{(\\mu_{rest} - \\mu_{mission})}{\\widehat{\\sigma_M} \\sqrt{\\frac{1}{n_1} + \\frac{1}{n_2}} } \\sim Student(n_1 + n_2 -2)$\n",
    "  i.e. follows a Student law with parameter (degree of freedom) $n_1+n_2-2$. It allows to define the rejection region (in red) of the test $H_0:$ \"means are equals\" against $H_1:$ \"means are different\" with significance level $\\alpha=0.05$.</p>"
   ]
  },
  {
   "cell_type": "code",
   "execution_count": 14,
   "metadata": {},
   "outputs": [
    {
     "data": {
      "image/png": "[encoded data removed]",
      "text/plain": [
       "<Figure size 432x288 with 1 Axes>"
      ]
     },
     "metadata": {
      "needs_background": "light"
     },
     "output_type": "display_data"
    }
   ],
   "source": [
    "x = np.linspace(-3,3,1000)\n",
    "n1 = len(rest_data)\n",
    "n2 = len(mission_data)\n",
    "# real density\n",
    "y_true = scipy.stats.t.pdf(x,n1+n2-2)\n",
    "# student data simulation\n",
    "Xsize = 100\n",
    "X = scipy.stats.t.rvs(n1+n2-2, size=Xsize)\n",
    "# 2.5% left & right\n",
    "x1 = scipy.stats.t.ppf(0.025,n1+n2-2)\n",
    "x2 = scipy.stats.t.ppf(0.975,n1+n2-2)\n",
    "## PLOT\n",
    "# real density\n",
    "plt.plot(x, y_true, label='student density')\n",
    "# data \n",
    "plt.plot(X,len(X)*[0.0],'k.', markersize=5,color='blue')\n",
    "# symetric 5% risk: only 5% of data is in the red area\n",
    "plt.axvline(linewidth=1, color='r', x=x1)\n",
    "plt.axvline(linewidth=1, color='r', x=x2)\n",
    "xbeg = np.linspace(-3,x1,1000)\n",
    "xend = np.linspace(x2,3,1000)\n",
    "plt.fill_between(xbeg,scipy.stats.t.pdf(xbeg,n1+n2-2),color=\"r\")\n",
    "plt.fill_between(xend,scipy.stats.t.pdf(xend,n1+n2-2),color=\"r\")\n",
    "# legend & show\n",
    "plt.legend(loc='upper right')\n",
    "plt.show()"
   ]
  },
  {
   "cell_type": "markdown",
   "metadata": {},
   "source": [
    "<p class=\"bg-primary\" style=\"padding:1em\">**QUESTION** Implement Student's t-test on means using scipy.stats.t.cdf .</p>"
   ]
  },
  {
   "cell_type": "code",
   "execution_count": 15,
   "metadata": {},
   "outputs": [
    {
     "ename": "SyntaxError",
     "evalue": "invalid syntax (<ipython-input-15-262345d7e643>, line 7)",
     "output_type": "error",
     "traceback": [
      "\u001b[0;36m  File \u001b[0;32m\"<ipython-input-15-262345d7e643>\"\u001b[0;36m, line \u001b[0;32m7\u001b[0m\n\u001b[0;31m    p_value = #fill code\u001b[0m\n\u001b[0m                        ^\u001b[0m\n\u001b[0;31mSyntaxError\u001b[0m\u001b[0;31m:\u001b[0m invalid syntax\n"
     ]
    }
   ],
   "source": [
    "# STUDENT's TEST\n",
    "alpha = 0.05 #Or whatever you want your alpha to be.\n",
    "n1 = len(rest_data)\n",
    "n2 = len(mission_data)\n",
    "v1 = np.var(rest_data, ddof=1)\n",
    "v2 = np.var(mission_data, ddof=1)\n",
    "sigm = np.sqrt( ((n1-1)*v1 + (n2-1)*v2)/(n1+n2-2) )\n",
    "denom = sigm * np.sqrt(1/n1 + 1/n2)\n",
    "U = (np.mean(rest_data) - np.mean(mission_data))/denom\n",
    "p_value = # fill code\n",
    "print(p_value)\n",
    "print('Value of the statistic = ' + str(U))\n",
    "if (p_value < alpha):\n",
    "    print('We can assume that means are different with risk '+ str(alpha))\n",
    "else:\n",
    "    print(\"We can't assume that means are different\")\n",
    "# scipy test\n",
    "print(scipy.stats.ttest_ind(rest_data, mission_data,equal_var=True))\n",
    "plt.plot(x, y_true, label='student density')\n",
    "plt.plot(X,len(X)*[0.0],'k.', markersize=5,color='red')\n",
    "plt.plot(U,0,'k.', markersize=10, color='green')\n",
    "# plot\n",
    "plt.legend(loc='upper right')\n",
    "plt.show()"
   ]
  },
  {
   "cell_type": "markdown",
   "metadata": {},
   "source": [
    "<p class=\"bg-primary\" style=\"padding:1em\"> Conclusion: We know how to preprocess and describe physiological data, as well as how to apply tests on data.</p>"
   ]
  },
  {
   "cell_type": "markdown",
   "metadata": {},
   "source": [
    "<br>\n",
    "<a id=\"1BIT\"></a><h1>II. General Linear Model </h1>\n",
    "\n",
    "<div class=\"bg-danger\" style=\"padding:1em\"><b> 1:</b> Generate two datasets distributed as the General Linear Model with the ANOVA configuration and with 3 conditions: the first one under $H_0$, the other one under $H_1$. </div>\n",
    "<div class=\"bg-danger\" style=\"padding:1em\"><b> 2:</b> Compute the statistic in both cases.</div>\n",
    "<div class=\"bg-danger\" style=\"padding:1em\"><b> 3:</b> Compute the p-values.</div>\n",
    "<div class=\"bg-danger\" style=\"padding:1em\"><b> 4:</b> Compare the statistics and the p-values with the output of the scipy function for ANOVA.</div>\n",
    "<div class=\"bg-danger\" style=\"padding:1em\"><b> *5*:</b> Same questions with the linear regression. </div>\n",
    "<div class=\"bg-danger\" style=\"padding:1em\"><b> *6*:</b> Implement a permutation test on the two datasets of the first question. </div>"
   ]
  },
  {
   "cell_type": "code",
   "execution_count": 16,
   "metadata": {},
   "outputs": [
    {
     "ename": "SyntaxError",
     "evalue": "invalid syntax (<ipython-input-16-228c3f307e25>, line 8)",
     "output_type": "error",
     "traceback": [
      "\u001b[0;36m  File \u001b[0;32m\"<ipython-input-16-228c3f307e25>\"\u001b[0;36m, line \u001b[0;32m8\u001b[0m\n\u001b[0;31m    Y1 =\u001b[0m\n\u001b[0m        ^\u001b[0m\n\u001b[0;31mSyntaxError\u001b[0m\u001b[0;31m:\u001b[0m invalid syntax\n"
     ]
    }
   ],
   "source": [
    "# number of samples\n",
    "n=1200\n",
    "# number of conditions\n",
    "d=3\n",
    "# number of sample per condition\n",
    "ni = n/d\n",
    "# dataset 1\n",
    "Y1 =\n",
    "# dataset 2\n",
    "Y2 =\n"
   ]
  }
 ],
 "metadata": {
  "celltoolbar": "Format de la Cellule Texte Brut",
  "kernelspec": {
   "display_name": "Python 3",
   "language": "python",
   "name": "python3"
  },
  "language_info": {
   "codemirror_mode": {
    "name": "ipython",
    "version": 3
   },
   "file_extension": ".py",
   "mimetype": "text/x-python",
   "name": "python",
   "nbconvert_exporter": "python",
   "pygments_lexer": "ipython3",
   "version": "3.8.3"
  }
 },
 "nbformat": 4,
 "nbformat_minor": 2
}
