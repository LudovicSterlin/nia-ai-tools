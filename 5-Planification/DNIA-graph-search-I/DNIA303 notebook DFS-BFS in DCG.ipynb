{
 "cells": [
  {
   "cell_type": "markdown",
   "metadata": {},
   "source": [
    "### Recalling two graph search mechanisms : Breath-first and Depth-first searches"
   ]
  },
  {
   "cell_type": "code",
   "execution_count": 1,
   "metadata": {},
   "outputs": [],
   "source": [
    "import os\n",
    "#graph adt\n",
    "#check the below link for more details\n",
    "# https://github.com/je-suis-tm/graph-theory/blob/master/graph.py\n",
    "import graph"
   ]
  },
  {
   "cell_type": "markdown",
   "metadata": {},
   "source": [
    "<img align=\"center\" src=\"diagram-DCG.png\" width=500/>"
   ]
  },
  {
   "cell_type": "code",
   "execution_count": 3,
   "metadata": {},
   "outputs": [],
   "source": [
    "#create a directed cyclical graph\n",
    "#it is both directed and cyclical\n",
    "data=[[1,2],\n",
    "[1,3],\n",
    "[2,4],\n",
    "[2,6],\n",
    "[6,4],\n",
    "[4,3],\n",
    "[3,1],\n",
    "[3,5],\n",
    "[3,7],\n",
    "[5,7],\n",
    "[6,7],\n",
    "[7,1]]\n",
    "\n",
    "DCG=graph.graph()\n",
    "\n",
    "for i in data:\n",
    "    ## append nodes (or vertices) and the edge between them\n",
    "    DCG.append(i[0],i[1],1)"
   ]
  },
  {
   "cell_type": "markdown",
   "metadata": {},
   "source": [
    "### Breadth-First Search\n",
    "\n",
    "&nbsp;\n",
    "\n",
    "BFS keeps snooping around sibling vertices until it has to go one layer deeper. BFS does not backtrack and it only goes deeper and deeper. When BFS encounter visited vertices, it simply ignores them unless it has no other vertices to visit. In that case, the traversal is over.\n",
    "\n",
    "Please refer to the website below for details\n",
    "\n",
    "https://en.wikipedia.org/wiki/Breadth-first_search\n",
    "\n",
    "&nbsp;"
   ]
  },
  {
   "cell_type": "code",
   "execution_count": 4,
   "metadata": {},
   "outputs": [],
   "source": [
    "#bfs checks all sibling vertices\n",
    "# note the forward search presented during the course et similat to a breath-first search\n",
    "#before moving down to child vertices\n",
    "#then grandchild vertices\n",
    "#if the vertex has been visited\n",
    "#it simply skips that vertex\n",
    "def bfs(ADT,current):\n",
    "    \"\"\"Breadth First Search\"\"\"\n",
    "    \n",
    "    #create a queue with rule of first-in-first-out\n",
    "    #when the queue is not empty\n",
    "    #we explore the first-in vertex\n",
    "    #and append its children to the end of the queue\n",
    "    queue=[]\n",
    "    queue.append(current)\n",
    "    \n",
    "    while queue:\n",
    "                \n",
    "        #keep track of the visited vertices\n",
    "        current=queue.pop(0)\n",
    "        ADT.visit(current)\n",
    "        \n",
    "        #viz\n",
    "        print(current)\n",
    "        \n",
    "        for newpos in ADT.edge(current):\n",
    "            \n",
    "            #besides the condition of visited\n",
    "            #we wanna make sure the vertex hasnt been in the queue yet\n",
    "            #this condition wont have much impact on the result\n",
    "            #it just makes the algorithm more efficient\n",
    "            #lets avoid appending the same vertex into the list twice\n",
    "            if ADT.go(newpos)==0 and newpos not in queue:\n",
    "                queue.append(newpos)"
   ]
  },
  {
   "cell_type": "code",
   "execution_count": 5,
   "metadata": {},
   "outputs": [
    {
     "name": "stdout",
     "output_type": "stream",
     "text": [
      "1\n",
      "2\n",
      "3\n",
      "4\n",
      "6\n",
      "5\n",
      "7\n"
     ]
    }
   ],
   "source": [
    "#the order is different from dfs\n",
    "bfs(DCG,1)\n",
    "\n",
    "#reset status of visited\n",
    "DCG.clear(whole=True)"
   ]
  },
  {
   "cell_type": "markdown",
   "metadata": {},
   "source": [
    "<img align=\"center\" src=\"diagram-DCG-bfs.png\" width=500/>"
   ]
  },
  {
   "cell_type": "markdown",
   "metadata": {},
   "source": [
    "### Depth-first Search\n",
    "\n",
    "&nbsp;\n",
    "\n",
    "DFS focuses on the depth of a topological structure. DFS keeps going forward along the first available branch until it reaches cul-de-sac. Then DFS starts backtracking until it finds an unvisited branch to reach the very end. DFS will repeat the previous two steps until all vertices have been investigated.\n",
    "\n",
    "Please refer to the website below for details\n",
    "\n",
    "https://en.wikipedia.org/wiki/Depth-first_search \n",
    "\n",
    "&nbsp;"
   ]
  },
  {
   "cell_type": "code",
   "execution_count": 6,
   "metadata": {},
   "outputs": [],
   "source": [
    "#dfs explores the vertex s first unvisited edge\n",
    "#it moves to the child vertex\n",
    "#again it finds the first unvisited edge of the child vertex\n",
    "#it moves to the grandchild vertex\n",
    "#it keeps repeating the process over and over again\n",
    "#until it reaches the brick wall or deja vu\n",
    "#it would move one layer up to find the second edge to go deeper\n",
    "#by concept, we have to use recursion to implement the algorithm\n",
    "def dfs(ADT,current):\n",
    "    \"\"\"Depth First Search\"\"\"\n",
    "    \n",
    "    #keep track of the visited vertices\n",
    "    ADT.visit(current)\n",
    "    \n",
    "    #viz\n",
    "    print(current)\n",
    "\n",
    "    #the loop is the backtracking part when it reaches cul-de-sac\n",
    "    for newpos in ADT.edge(current):\n",
    "        \n",
    "        #if the vertex hasnt been visited\n",
    "        #we call dfs recursively\n",
    "        if ADT.go(newpos)==0:\n",
    "            dfs(ADT,newpos)"
   ]
  },
  {
   "cell_type": "code",
   "execution_count": 7,
   "metadata": {},
   "outputs": [],
   "source": [
    "#non recursive dfs\n",
    "#the general structure is very similar to bfs\n",
    "#the only difference is we introduce a small queue called smallq\n",
    "#small queue contains all child vertices of the current vertex\n",
    "#we put elements of small queue at the beginning of big queue in exact order\n",
    "#in this way, when queue pops the first item\n",
    "#it would be the first child vertex\n",
    "#iteration trades time complexity for space complexity\n",
    "#it is not as graceful as recursive call\n",
    "#but it runs faster in a large graph adt\n",
    "def dfs_itr(ADT,current):\n",
    "    \"\"\"Depth First Search without Recursion\"\"\"\n",
    "    \n",
    "    queue=[]\n",
    "    queue.append(current)    \n",
    "    \n",
    "    #the loop is the backtracking part when it reaches cul-de-sac\n",
    "    while queue:\n",
    "        \n",
    "        #keep track of the visited vertices\n",
    "        current=queue.pop(0)\n",
    "        ADT.visit(current)\n",
    "        print(current)\n",
    "        \n",
    "        #priority queue\n",
    "        smallq=[]        \n",
    "        \n",
    "        #find children and add to the priority\n",
    "        for newpos in ADT.edge(current):\n",
    "            if ADT.go(newpos)==0:                \n",
    "                #if the child vertex has already been in queue\n",
    "                #we wanna prioritize it in queue\n",
    "                #as the children should be visited earlier than siblings\n",
    "                #dfs rule 101\n",
    "                #thus, we move it to the frontline of queue\n",
    "                if newpos in queue:\n",
    "                    queue.remove(newpos)\n",
    "                smallq.append(newpos)\n",
    "                \n",
    "        queue=smallq+queue"
   ]
  },
  {
   "cell_type": "code",
   "execution_count": 8,
   "metadata": {
    "scrolled": true
   },
   "outputs": [
    {
     "name": "stdout",
     "output_type": "stream",
     "text": [
      "1\n",
      "2\n",
      "4\n",
      "3\n",
      "5\n",
      "7\n",
      "6\n"
     ]
    }
   ],
   "source": [
    "#printing the order of the visit\n",
    "dfs(DCG,1)\n",
    "\n",
    "#reset status of visited\n",
    "DCG.clear(whole=True)"
   ]
  },
  {
   "cell_type": "markdown",
   "metadata": {},
   "source": [
    "<img align=\"center\" src=\"diagram-DCG-dfs.png\" width=500/>"
   ]
  },
  {
   "cell_type": "code",
   "execution_count": 9,
   "metadata": {
    "scrolled": true
   },
   "outputs": [
    {
     "name": "stdout",
     "output_type": "stream",
     "text": [
      "1\n",
      "2\n",
      "4\n",
      "3\n",
      "5\n",
      "7\n",
      "6\n"
     ]
    }
   ],
   "source": [
    "#the order is exactly the same as dfs recursion\n",
    "dfs_itr(DCG,1)\n",
    "\n",
    "#reset status of visited\n",
    "DCG.clear(whole=True)"
   ]
  },
  {
   "cell_type": "markdown",
   "metadata": {},
   "source": [
    "### Discussion\n",
    "\n",
    "When graph search is used for **planning purposes**:\n",
    "- a breadth-first search allows to evaluate the effects of different actions for a same node\n",
    "- a depth-first search allows to evaluate sequence of actions (paths/plans)\n",
    "\n",
    "In planning, a ***trade-off*** between both searches is usually favorised !!\n",
    "\n",
    "Moreover, every additional information could be helpful:\n",
    "- To organize or define a kind of preference between actions (instead of first-in-first-out queue management)"
   ]
  }
 ],
 "metadata": {
  "kernelspec": {
   "display_name": "Python 3",
   "language": "python",
   "name": "python3"
  },
  "language_info": {
   "codemirror_mode": {
    "name": "ipython",
    "version": 3
   },
   "file_extension": ".py",
   "mimetype": "text/x-python",
   "name": "python",
   "nbconvert_exporter": "python",
   "pygments_lexer": "ipython3",
   "version": "3.8.2"
  },
  "toc": {
   "base_numbering": 1,
   "nav_menu": {},
   "number_sections": true,
   "sideBar": true,
   "skip_h1_title": false,
   "title_cell": "Table of Contents",
   "title_sidebar": "Contents",
   "toc_cell": false,
   "toc_position": {},
   "toc_section_display": true,
   "toc_window_display": false
  }
 },
 "nbformat": 4,
 "nbformat_minor": 2
}
